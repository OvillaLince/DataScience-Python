{
 "cells": [
  {
   "cell_type": "markdown",
   "id": "3efb9a0e-6a12-47ca-b178-77f72845bcae",
   "metadata": {},
   "source": [
    "# Homework Assignment 1\n",
    "## Octavio Villalaz "
   ]
  },
  {
   "cell_type": "code",
   "execution_count": 11,
   "id": "6bfab705-4b8e-4ccf-b27a-6db5e502b044",
   "metadata": {
    "scrolled": true
   },
   "outputs": [
    {
     "name": "stdout",
     "output_type": "stream",
     "text": [
      "1s-- Golem: 5 Imp: 10\n",
      "2s-- Golem: 8 Imp: 11\n",
      "3s-- Golem: 13 Imp: 12\n",
      "Imp was caught by Golem in 3 seconds\n"
     ]
    }
   ],
   "source": [
    "import random;\n",
    "# Initializers\n",
    "tunnel = [None] * 51;\n",
    "impIndex = 5;\n",
    "golemIndex = 0\n",
    "tunnel[impIndex] = 'I';\n",
    "tunnel[golemIndex] = 'G';\n",
    "seconds = 0;\n",
    "# Loop\n",
    "while tunnel[50] == None:\n",
    "    #Start seconds count\n",
    "    seconds += 1;\n",
    "\n",
    "    #New Imp and Golem Indexes\n",
    "    impIndex += random.randint(1,9);\n",
    "    golemIndex += random.randint(3,5);\n",
    "    \n",
    "    #Print new Indexes\n",
    "    print(str(seconds)+'s--','Golem:',golemIndex,'Imp:',impIndex);\n",
    "    \n",
    "    #Check if Golem caught Imp\n",
    "    if golemIndex >= impIndex :\n",
    "        print('Imp was caught by Golem in ' + str(seconds) + ' seconds')\n",
    "        break\n",
    "        \n",
    "    #Check if Imp Escaped\n",
    "    if impIndex >= 50 :\n",
    "        print('Imp has escaped the tunnel in ' + str(seconds) + ' seconds')\n",
    "        break\n",
    "        \n",
    "    #Move Imp and Golem to new Index\n",
    "    tunnel[impIndex] = 'I';\n",
    "    tunnel[golemIndex] = 'G';\n",
    "    \n",
    "    "
   ]
  },
  {
   "cell_type": "code",
   "execution_count": null,
   "id": "80dcfcc3-dedb-48b3-afc6-800c0ec5cdbf",
   "metadata": {},
   "outputs": [],
   "source": []
  }
 ],
 "metadata": {
  "kernelspec": {
   "display_name": "Python 3 (ipykernel)",
   "language": "python",
   "name": "python3"
  },
  "language_info": {
   "codemirror_mode": {
    "name": "ipython",
    "version": 3
   },
   "file_extension": ".py",
   "mimetype": "text/x-python",
   "name": "python",
   "nbconvert_exporter": "python",
   "pygments_lexer": "ipython3",
   "version": "3.11.5"
  }
 },
 "nbformat": 4,
 "nbformat_minor": 5
}
